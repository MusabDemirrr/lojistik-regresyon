{
  "nbformat": 4,
  "nbformat_minor": 0,
  "metadata": {
    "colab": {
      "provenance": [],
      "authorship_tag": "ABX9TyPA7dTPNWthL42BBdFOGIQw",
      "include_colab_link": true
    },
    "kernelspec": {
      "name": "python3",
      "display_name": "Python 3"
    },
    "language_info": {
      "name": "python"
    }
  },
  "cells": [
    {
      "cell_type": "markdown",
      "metadata": {
        "id": "view-in-github",
        "colab_type": "text"
      },
      "source": [
        "<a href=\"https://colab.research.google.com/github/MusabDemirrr/lojistik-regresyon/blob/main/lojistik_regresyon.ipynb\" target=\"_parent\"><img src=\"https://colab.research.google.com/assets/colab-badge.svg\" alt=\"Open In Colab\"/></a>"
      ]
    },
    {
      "cell_type": "markdown",
      "source": [
        "**Lojisitk Regrresyon / Logistic Regression**"
      ],
      "metadata": {
        "id": "6KRNdmUMmFYL"
      }
    },
    {
      "cell_type": "markdown",
      "source": [
        "I have wrote this code by watching @Siddhardhan's\n",
        "Machine Learning Course With Python on youtube"
      ],
      "metadata": {
        "id": "QI3z0EDNr8Nz"
      }
    },
    {
      "cell_type": "code",
      "execution_count": null,
      "metadata": {
        "id": "86SO_z3sl6q2"
      },
      "outputs": [],
      "source": [
        "# Gerekli kütüphaneleri yüklüyoruz\n",
        "# İmporting the libraries\n",
        "import numpy as np"
      ]
    },
    {
      "cell_type": "code",
      "source": [
        "class LojistikRegresyon():\n",
        "\n",
        "  def __init__(self,ogrenme_hizi,egitim_sayisi):\n",
        "\n",
        "    self.egitim_sayisi = egitim_sayisi\n",
        "    self.ogrenme_hizi = ogrenme_hizi\n",
        "\n",
        "\n",
        "  def egitim(self,X,Y):\n",
        "\n",
        "    self.X = X\n",
        "    self.Y = Y\n",
        "    self.veri_sayisi,self.ozellik_sayisi = X.shape\n",
        "\n",
        "    self.agirliklar = np.zeros(self.ozellik_sayisi)\n",
        "    self.biyas = 0\n",
        "\n",
        "    for _ in range(self.egitim_sayisi):\n",
        "      self.agirlik_guncelleme()\n",
        "\n",
        "\n",
        "\n",
        "  def agirlik_guncelleme(self):\n",
        "    # modelin tahmini sonuç 0-1 arası bir olasılık değeri\n",
        "    tahminler = 1 / (np.exp(-(self.X.dot(self.agirliklar) + self.biyas)) + 1)\n",
        "\n",
        "    #  maliyet fonksiyonunun ağırlıklara göre türevi\n",
        "    da = (1/self.veri_sayisi) * self.X.T.dot(tahminler - self.Y)\n",
        "    #  maliyet fonksiyonunun biyasa göre türevi\n",
        "    db = (1/self.veri_sayisi) * np.sum(tahminler - self.Y)\n",
        "\n",
        "    # gradyan inişi kullanarak ağırlıkları ve biyası gücelleme\n",
        "    self.agirliklar = self.agirliklar - self.ogrenme_hizi * da\n",
        "    self.biyas = self.biyas - self.ogrenme_hizi * db\n",
        "\n",
        "\n",
        "\n",
        "  def tahmin(self,X):\n",
        "\n",
        "    olasılık_tahminleri = 1 / (np.exp(-(X.dot(self.agirliklar) + self.biyas)) + 1)\n",
        "\n",
        "    tahminler = np.where(olasılık_tahminleri >= 0.5 ,1 ,0)\n",
        "\n",
        "    return tahminler\n"
      ],
      "metadata": {
        "id": "v5K_RlctNIZJ"
      },
      "execution_count": null,
      "outputs": []
    },
    {
      "cell_type": "code",
      "source": [],
      "metadata": {
        "id": "gblO4EMu3rkV"
      },
      "execution_count": null,
      "outputs": []
    }
  ]
}